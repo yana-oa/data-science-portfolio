{
 "cells": [
  {
   "cell_type": "markdown",
   "id": "a2a10933",
   "metadata": {},
   "source": [
    "# Youtube Transcript Summarizer\n",
    "\n",
    "Need to quickly learn something from a Youtube video? Don't change the playback speed to 1.75x just yet.\n",
    "\n",
    "This project allows you to input a Youtube Link and print out a summary of the video contents."
   ]
  },
  {
   "cell_type": "markdown",
   "id": "34b5c8c0",
   "metadata": {},
   "source": [
    "## Importing Libraries"
   ]
  },
  {
   "cell_type": "code",
   "execution_count": 2,
   "id": "1a19976e",
   "metadata": {},
   "outputs": [
    {
     "ename": "ModuleNotFoundError",
     "evalue": "No module named 'youtube_transcript_api'",
     "output_type": "error",
     "traceback": [
      "\u001b[1;31m---------------------------------------------------------------------------\u001b[0m",
      "\u001b[1;31mModuleNotFoundError\u001b[0m                       Traceback (most recent call last)",
      "Input \u001b[1;32mIn [2]\u001b[0m, in \u001b[0;36m<cell line: 2>\u001b[1;34m()\u001b[0m\n\u001b[0;32m      1\u001b[0m \u001b[38;5;28;01mfrom\u001b[39;00m \u001b[38;5;21;01mtransformers\u001b[39;00m \u001b[38;5;28;01mimport\u001b[39;00m pipeline\n\u001b[1;32m----> 2\u001b[0m \u001b[38;5;28;01mfrom\u001b[39;00m \u001b[38;5;21;01myoutube_transcript_api\u001b[39;00m \u001b[38;5;28;01mimport\u001b[39;00m YouTubeTranscriptApi \u001b[38;5;28;01mas\u001b[39;00m ytapi\n",
      "\u001b[1;31mModuleNotFoundError\u001b[0m: No module named 'youtube_transcript_api'"
     ]
    }
   ],
   "source": [
    "from transformers import pipeline\n",
    "from youtube_transcript_api import YouTubeTranscriptApi as ytapi"
   ]
  },
  {
   "cell_type": "markdown",
   "id": "c146dab3",
   "metadata": {},
   "source": [
    "## Declaring Variables"
   ]
  },
  {
   "cell_type": "code",
   "execution_count": null,
   "id": "baa7b008",
   "metadata": {},
   "outputs": [],
   "source": [
    "yt_video = \"https://www.youtube.com/watch?v=YQ-RXMtQYYM\"\n",
    "video_id = yt_video.split(\"=\")[1]"
   ]
  },
  {
   "cell_type": "markdown",
   "id": "3c39d911",
   "metadata": {},
   "source": [
    "## Extract Transcript text as JSON file"
   ]
  },
  {
   "cell_type": "code",
   "execution_count": null,
   "id": "e115f188",
   "metadata": {},
   "outputs": [],
   "source": [
    "transcript = ytapi.get_transcript(video_id) #json object/dict\n",
    "head = transcript[0:5]\n",
    "print(head)"
   ]
  },
  {
   "cell_type": "markdown",
   "id": "e12055fe",
   "metadata": {},
   "source": [
    "## Parsing Text"
   ]
  },
  {
   "cell_type": "code",
   "execution_count": null,
   "id": "c1008047",
   "metadata": {},
   "outputs": [],
   "source": [
    "vid_text = \"\"\n",
    "for i in transcript:\n",
    "    vid_text += ' '+ i['text']\n",
    "\n",
    "#print(vid_text) (might be pretty long)"
   ]
  },
  {
   "cell_type": "markdown",
   "id": "3f1c8dc6",
   "metadata": {},
   "source": [
    "## Call built-in Transformers Summarization"
   ]
  },
  {
   "cell_type": "code",
   "execution_count": null,
   "id": "e941e33f",
   "metadata": {},
   "outputs": [],
   "source": [
    "summarizer = pipeline('summarization')\n",
    "summarizer(vid_text, max_length = 120, min_length = 10, do_sample=False)"
   ]
  },
  {
   "cell_type": "code",
   "execution_count": null,
   "id": "1a740243",
   "metadata": {},
   "outputs": [],
   "source": [
    "print(summarizer)"
   ]
  },
  {
   "cell_type": "code",
   "execution_count": null,
   "id": "f600dce4",
   "metadata": {},
   "outputs": [],
   "source": []
  }
 ],
 "metadata": {
  "kernelspec": {
   "display_name": "Python 3 (ipykernel)",
   "language": "python",
   "name": "python3"
  },
  "language_info": {
   "codemirror_mode": {
    "name": "ipython",
    "version": 3
   },
   "file_extension": ".py",
   "mimetype": "text/x-python",
   "name": "python",
   "nbconvert_exporter": "python",
   "pygments_lexer": "ipython3",
   "version": "3.9.12"
  }
 },
 "nbformat": 4,
 "nbformat_minor": 5
}
